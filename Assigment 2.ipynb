{
 "cells": [
  {
   "cell_type": "markdown",
   "id": "d54a07f2",
   "metadata": {},
   "source": [
    "# Python String Concatenation and Formatting Assignments"
   ]
  },
  {
   "cell_type": "markdown",
   "id": "663bbf62",
   "metadata": {},
   "source": [
    "Assignment 1: String Concatenation and Formatting**\n",
    "\n",
    "**Instructions:**\n",
    "\n",
    "1. Create a variable `name` and assign your name to it.\n",
    "2. Create a variable `age` and assign your age to it.\n",
    "3. Create a variable `country` and assign your country of residence to it.\n",
    "4. Using the `+` operator, concatenate the variables to form a sentence in the following format: \"My name is `<name>`, I am `<age>` years old, and I live in `<country>`.\"\n",
    "5. Print the concatenated sentence."
   ]
  },
  {
   "cell_type": "code",
   "execution_count": 1,
   "id": "053c4c64",
   "metadata": {},
   "outputs": [
    {
     "name": "stdout",
     "output_type": "stream",
     "text": [
      "My name is Jawad, I am 35 years old, and I live in Karachi, Pakistan.\n"
     ]
    }
   ],
   "source": [
    "# Assignment 1: String Concatenation and Formatting\n",
    "\n",
    "# Step 1\n",
    "name = \"Jawad\"\n",
    "\n",
    "# Step 2\n",
    "age = 35\n",
    "\n",
    "# Step 3\n",
    "country = \"Karachi, Pakistan\"\n",
    "\n",
    "# Step 4\n",
    "sentence = \"My name is \" + name + \", I am \" + str(age) + \" years old, and I live in \" + country + \".\"\n",
    "\n",
    "# Step 5\n",
    "print(sentence)\n"
   ]
  },
  {
   "cell_type": "markdown",
   "id": "67b382dd",
   "metadata": {},
   "source": [
    "**Assignment 2: String Formatting using `.format()`\n",
    "\n",
    "**Instructions:**\n",
    "\n",
    "1. Create a variable `item` and assign a product name to it (e.g., \"laptop\", \"book\", \"phone\").\n",
    "2. Create a variable `price` and assign a price to the item.\n",
    "3. Create a variable `quantity` and assign a quantity value.\n",
    "4. Calculate the total cost using the formula: `total_cost = price * quantity`.\n",
    "5. Using the `.format()` method, create a formatted string: \"I bought `<quantity>` `<item>`(s) at `<price>` each, for a total of $`<total_cost>`.\"\n",
    "6. Print the formatted string."
   ]
  },
  {
   "cell_type": "code",
   "execution_count": 2,
   "id": "ac18d2e3",
   "metadata": {},
   "outputs": [
    {
     "name": "stdout",
     "output_type": "stream",
     "text": [
      "I bought 2 laptop(s) at 78000.5153 each, for a total of PKR156001.03.\n"
     ]
    }
   ],
   "source": [
    "# Step 1\n",
    "item = \"laptop\"\n",
    "\n",
    "# Step 2\n",
    "price = 78000.5153\n",
    "\n",
    "# Step 3\n",
    "quantity = 2\n",
    "\n",
    "# Step 4\n",
    "total_cost = price * quantity\n",
    "\n",
    "# Step 5\n",
    "formatted_string = \"I bought {} {}(s) at {} each, for a total of PKR{:.2f}.\".format(quantity, item, price, total_cost)\n",
    "\n",
    "# Step 6\n",
    "print(formatted_string)\n"
   ]
  },
  {
   "cell_type": "markdown",
   "id": "89ef3b54",
   "metadata": {},
   "source": [
    "**Assignment 3: String Interpolation using `f''`\n",
    "\n",
    "**Instructions:**\n",
    "\n",
    "1. Create a variable `city` and assign the name of a city.\n",
    "2. Create a variable `temperature` and assign a temperature value in Celsius.\n",
    "3. Using `f''` string interpolation, create a string: \"The temperature in `<city>` is `<temperature>`°C.\"\n",
    "4. Print the interpolated string."
   ]
  },
  {
   "cell_type": "code",
   "execution_count": 5,
   "id": "64e51cdb",
   "metadata": {},
   "outputs": [
    {
     "name": "stdout",
     "output_type": "stream",
     "text": [
      "The temperature in Karachi is 32.7°C.\n"
     ]
    }
   ],
   "source": [
    "# Step 1\n",
    "city = \"Karachi\"\n",
    "\n",
    "# Step 2\n",
    "temperature = 32.7\n",
    "\n",
    "# Step 3\n",
    "interpolated_string = f\"The temperature in {city} is {temperature}°C.\"\n",
    "\n",
    "# Step 4\n",
    "print(interpolated_string)\n"
   ]
  },
  {
   "cell_type": "markdown",
   "id": "61b386cf",
   "metadata": {},
   "source": [
    "**Assignment 4: String Formatting using `%()`\n",
    "\n",
    "**Instructions:**\n",
    "\n",
    "1. Create a variable `first_name` and assign your first name to it.\n",
    "2. Create a variable `last_name` and assign your last name to it.\n",
    "3. Create a variable `birth_year` and assign your birth year.\n",
    "4. Calculate your age using the formula: `age = current_year - birth_year`, where `current_year` is the current year.\n",
    "5. Using `%()` string formatting, create a string: \"My name is %(first_name)s %(last_name)s. I am %(age)d years old.\"\n",
    "6. Print the formatted string."
   ]
  },
  {
   "cell_type": "code",
   "execution_count": 6,
   "id": "9ed3b7df",
   "metadata": {},
   "outputs": [
    {
     "name": "stdout",
     "output_type": "stream",
     "text": [
      "My name is Jawad Khan. I am 35 years old.\n"
     ]
    }
   ],
   "source": [
    "# Step 1\n",
    "first_name = \"Jawad\"\n",
    "\n",
    "# Step 2\n",
    "last_name = \"Khan\"\n",
    "\n",
    "# Step 3\n",
    "birth_year = 1988\n",
    "\n",
    "# Step 4\n",
    "current_year = 2023\n",
    "age = current_year - birth_year\n",
    "\n",
    "# Step 5\n",
    "formatted_string = \"My name is %(first_name)s %(last_name)s. I am %(age)d years old.\" % {\n",
    "    'first_name': first_name,\n",
    "    'last_name': last_name,\n",
    "    'age': age\n",
    "}\n",
    "\n",
    "# Step 6\n",
    "print(formatted_string)\n"
   ]
  },
  {
   "cell_type": "markdown",
   "id": "3754a553",
   "metadata": {},
   "source": [
    "**Assignment 5: Combining Formatting Methods**\n",
    "\n",
    "**Instructions:**\n",
    "\n",
    "1. Create a variable `product` and assign a product name.\n",
    "2. Create a variable `discount` and assign a discount percentage.\n",
    "3. Create a variable `original_price` and assign an original price.\n",
    "4. Calculate the discounted price using the formula: `discounted_price = original_price * (1 - discount / 100)`.\n",
    "5. Using any combination of string formatting methods (`+`, `.format()`, `f''`, `%()`), create a descriptive string with the product name, original price, discount percentage, and discounted price.\n",
    "6. Print the descriptive string.\n"
   ]
  },
  {
   "cell_type": "code",
   "execution_count": 3,
   "id": "d29b3cf4",
   "metadata": {},
   "outputs": [
    {
     "name": "stdout",
     "output_type": "stream",
     "text": [
      "The Smartphone is on sale! Original price: PKR85699.76, 5% discount, discounted price: PKR81414.77\n"
     ]
    }
   ],
   "source": [
    "# Step 1\n",
    "product = \"Smartphone\"\n",
    "\n",
    "# Step 2\n",
    "discount = 5\n",
    "\n",
    "# Step 3\n",
    "original_price =85699.76\n",
    "\n",
    "# Step 4\n",
    "discounted_price = original_price * (1 - discount / 100)\n",
    "\n",
    "# Step 5\n",
    "descriptive_string = \"The {0} is on sale! Original price: PKR{1:.2f}, {2}% discount, discounted price: PKR{3:.2f}\".format(product, original_price, discount, discounted_price)\n",
    "\n",
    "# Step 6\n",
    "print(descriptive_string)\n"
   ]
  },
  {
   "cell_type": "code",
   "execution_count": 4,
   "id": "c262fcab",
   "metadata": {},
   "outputs": [
    {
     "name": "stdout",
     "output_type": "stream",
     "text": [
      "The Headphones are on sale! Original price: PKR2700.65, 20% discount, discounted price: PKR2160.52\n"
     ]
    }
   ],
   "source": [
    "# Step 1\n",
    "product = \"Headphones\"\n",
    "\n",
    "# Step 2\n",
    "discount = 20\n",
    "\n",
    "# Step 3\n",
    "original_price = 2700.65\n",
    "\n",
    "# Step 4\n",
    "discounted_price = original_price * (1 - discount / 100)\n",
    "\n",
    "# Step 5\n",
    "descriptive_string = f\"The {product} are on sale! Original price: PKR{original_price:.2f}, {discount}% discount, discounted price: PKR{discounted_price:.2f}\"\n",
    "\n",
    "# Step 6\n",
    "print(descriptive_string)\n"
   ]
  },
  {
   "cell_type": "code",
   "execution_count": 6,
   "id": "006637ad",
   "metadata": {},
   "outputs": [
    {
     "name": "stdout",
     "output_type": "stream",
     "text": [
      "Get your Sneakers now! Original price: PKR5000.63, 20% discount, discounted price: PKR4000.50\n"
     ]
    }
   ],
   "source": [
    "# Step 1\n",
    "product = \"Sneakers\"\n",
    "\n",
    "# Step 2\n",
    "discount = 20\n",
    "\n",
    "# Step 3\n",
    "original_price = 5000.63\n",
    "\n",
    "# Step 4\n",
    "discounted_price = original_price * (1 - discount / 100)\n",
    "\n",
    "# Step 5\n",
    "descriptive_string = \"Get your {} now! Original price: PKR{:.2f}, {}% discount, discounted price: PKR{:.2f}\".format(product, original_price, discount, discounted_price)\n",
    "\n",
    "# Step 6\n",
    "print(descriptive_string)\n"
   ]
  },
  {
   "cell_type": "code",
   "execution_count": 7,
   "id": "53140948",
   "metadata": {},
   "outputs": [
    {
     "name": "stdout",
     "output_type": "stream",
     "text": [
      "Grab your Backpack now! Original price: PKR4000.00, 5.79% discount, discounted price: PKR3768.40\n"
     ]
    }
   ],
   "source": [
    "# Step 1\n",
    "product = \"Backpack\"\n",
    "\n",
    "# Step 2\n",
    "discount =5.79\n",
    "\n",
    "# Step 3\n",
    "original_price = 4000\n",
    "\n",
    "# Step 4\n",
    "discounted_price = original_price * (1 - discount / 100)\n",
    "\n",
    "# Step 5\n",
    "descriptive_string = \"Grab your \" + product + \" now! Original price: PKR\" + format(original_price, \".2f\") + \", \" + str(discount) + \"% discount, discounted price: PKR\" + format(discounted_price, \".2f\")\n",
    "\n",
    "# Step 6\n",
    "print(descriptive_string)\n"
   ]
  },
  {
   "cell_type": "code",
   "execution_count": null,
   "id": "f5536010",
   "metadata": {},
   "outputs": [],
   "source": []
  }
 ],
 "metadata": {
  "kernelspec": {
   "display_name": "Python 3 (ipykernel)",
   "language": "python",
   "name": "python3"
  },
  "language_info": {
   "codemirror_mode": {
    "name": "ipython",
    "version": 3
   },
   "file_extension": ".py",
   "mimetype": "text/x-python",
   "name": "python",
   "nbconvert_exporter": "python",
   "pygments_lexer": "ipython3",
   "version": "3.11.3"
  }
 },
 "nbformat": 4,
 "nbformat_minor": 5
}
