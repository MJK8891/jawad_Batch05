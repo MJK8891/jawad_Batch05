{
 "cells": [
  {
   "cell_type": "markdown",
   "metadata": {},
   "source": [
    "### Note: must Replace CNIC and Name\n",
    "\n",
    "Example:<br>\n",
    "    \n",
    "Midterm_4123456789123_Muhammad_Qasim"
   ]
  },
  {
   "cell_type": "markdown",
   "metadata": {},
   "source": [
    "### Final Exame tips:\n",
    "* Paper timing: 3 Hours\n",
    "* Total Questions 20 you have to attempt all below tasks\n",
    "    * 5 questions are theoritical \n",
    "    * 15 are practical tasks\n",
    "* you can use any logic to achieve below tasks results\n",
    "* there is not any negative marking\n"
   ]
  },
  {
   "cell_type": "markdown",
   "metadata": {},
   "source": [
    "## Task1:\n",
    "    Names: Store the names of a few of your friends in a list called `names`. Print each person’s name and index number each element in the list, one at a time.\n",
    "    \n",
    "```\n",
    "Expected output:\n",
    "\n",
    "['Qasim','Hamza','Asif']\n",
    "\n",
    "0 , Qasim\n",
    "1 , Hamza\n",
    "2 , Asif\n",
    "```\n",
    "\n",
    "#### hint: enu...te()"
   ]
  },
  {
   "cell_type": "markdown",
   "metadata": {},
   "source": [
    "Sure, here's how you can accomplish Task1 using the enumerate() function in Python:\n",
    "The enumerate() function is used to iterate over both the index and the value of each element in the names list. The index variable will hold the index of the current element, and the name variable will hold the value of the current element."
   ]
  },
  {
   "cell_type": "code",
   "execution_count": 1,
   "metadata": {},
   "outputs": [
    {
     "name": "stdout",
     "output_type": "stream",
     "text": [
      "0 , Affan\n",
      "1 , Ibad\n",
      "2 , Saad\n"
     ]
    }
   ],
   "source": [
    "names = ['Affan', 'Ibad', 'Saad']\n",
    "\n",
    "for index, name in enumerate(names):\n",
    "    print(index, \",\", name)\n"
   ]
  },
  {
   "cell_type": "markdown",
   "metadata": {},
   "source": [
    "## Task2:\n",
    "Store your 3 friends names in `names` list<br>\n",
    "Store three messages in `messages` list<br>\n",
    "then print each friend and message from friends and messages lists\n",
    "    \n",
    "```\n",
    "Expected output:\n",
    "\n",
    "['Qasim','Hamza','Asif']\n",
    "['Welcome Dear Teacher','Charter Accountant',\"Good job Admin\"]\n",
    "\n",
    "'Qasim, Welcome Dear Teacher'\n",
    "'Hamza, Charter Accountant'\n",
    "'Asif, Good job Admin'\n",
    "\n",
    "```\n",
    "\n",
    "#### hint: z..p()"
   ]
  },
  {
   "cell_type": "code",
   "execution_count": null,
   "metadata": {},
   "outputs": [],
   "source": [
    "Absolutely, here's how you can complete Task2 using the zip() function in Python:\n",
    "The zip() function combines two or more iterables (in this case, the names and messages lists) element-wise, creating pairs that you can then iterate over together."
   ]
  },
  {
   "cell_type": "code",
   "execution_count": 2,
   "metadata": {},
   "outputs": [
    {
     "name": "stdout",
     "output_type": "stream",
     "text": [
      "Qasim, Welcome Dear Teacher\n",
      "Hamza, Charter Accountant\n",
      "Asif, Good job Admin\n"
     ]
    }
   ],
   "source": [
    "names = ['Qasim', 'Hamza', 'Asif']\n",
    "messages = ['Welcome Dear Teacher', 'Charter Accountant', 'Good job Admin']\n",
    "\n",
    "for name, message in zip(names, messages):\n",
    "    print(name + ', ' + message)"
   ]
  },
  {
   "cell_type": "markdown",
   "metadata": {},
   "source": [
    "### Task3:\n",
    "Guest List: If you could invite anyone, living or deceased, to dinner, who would you invite? Make a list that includes at least three people you’d like to invite to dinner. Then use your list to print a message to each person, inviting them to dinner."
   ]
  },
  {
   "cell_type": "markdown",
   "metadata": {},
   "source": [
    "In this code, I've created a list called guests with three names: Albert Einstein, Ada Lovelace, and Nelson Mandela. The for loop iterates through each guest's name and uses string formatting (f-strings) to print an invitation message for each person. You can replace the names in the guests list with the people you'd like to invite."
   ]
  },
  {
   "cell_type": "code",
   "execution_count": 5,
   "metadata": {},
   "outputs": [
    {
     "name": "stdout",
     "output_type": "stream",
     "text": [
      "Dear Albert Einstein, you are cordially invited to a dinner at my place. Please join us!\n",
      "Dear Ada Lovelace, you are cordially invited to a dinner at my place. Please join us!\n",
      "Dear Nelson Mandela, you are cordially invited to a dinner at my place. Please join us!\n"
     ]
    }
   ],
   "source": [
    "guests = ['Albert Einstein', 'Ada Lovelace', 'Nelson Mandela']\n",
    "\n",
    "for guest in guests:\n",
    "    print(f\"Dear {guest}, you are cordially invited to a dinner at my place. Please join us!\")\n"
   ]
  },
  {
   "cell_type": "markdown",
   "metadata": {},
   "source": [
    "### Task4:\n",
    "Changing Guest List: You just heard that one of your guests can’t make the dinner, so you need to send out a new set of invitations. You’ll have to think of someone else to invite.\n",
    "\n",
    "* Start with your program from Task 3. Add a print statement at the end of your program stating the name of the guest who can’t make it.\n",
    "\n",
    "* Modify your list, replacing the name of the guest who can’t make it with the name of the new person you are inviting.\n",
    "\n",
    "* Print a second set of invitation messages, one for each person who is still in your list."
   ]
  },
  {
   "cell_type": "markdown",
   "metadata": {},
   "source": [
    "In this code, I've added the ability to handle changes in the guest list. First, I've printed a message indicating that the guest who can't make it is Ada Lovelace. Then, I've used the remove() method to remove Ada Lovelace from the list and the append() method to add Marie Curie to the list. Finally, the same loop as before is used to print the invitation messages for the updated guest list."
   ]
  },
  {
   "cell_type": "code",
   "execution_count": 3,
   "metadata": {},
   "outputs": [
    {
     "name": "stdout",
     "output_type": "stream",
     "text": [
      "Unfortunately, Ada Lovelace can't make it to the dinner.\n",
      "Dear Albert Einstein, you are cordially invited to a dinner at my place. Please join us!\n",
      "Dear Nelson Mandela, you are cordially invited to a dinner at my place. Please join us!\n",
      "Dear Marie Curie, you are cordially invited to a dinner at my place. Please join us!\n"
     ]
    }
   ],
   "source": [
    "guests = ['Albert Einstein', 'Ada Lovelace', 'Nelson Mandela']\n",
    "guest_cant_make_it = 'Ada Lovelace'\n",
    "new_guest = 'Marie Curie'\n",
    "\n",
    "print(f\"Unfortunately, {guest_cant_make_it} can't make it to the dinner.\")\n",
    "\n",
    "guests.remove(guest_cant_make_it)\n",
    "guests.append(new_guest)\n",
    "\n",
    "for guest in guests:\n",
    "    print(f\"Dear {guest}, you are cordially invited to a dinner at my place. Please join us!\")\n"
   ]
  },
  {
   "cell_type": "markdown",
   "metadata": {},
   "source": [
    "### Task5:\n",
    "More Guests: You just found a bigger dinner table, so now more space is available. Think of three more guests to invite to dinner.\n",
    "* Start with your program from task4. Add a print statement to the end of your program informing people that you found a bigger dinner table.\n",
    "* Add one new guest to the beginning of your array(list).\n",
    "\n",
    "* Add one new guest to the middle of your array. \n",
    "* Use append() to add one new guest to the end of your list. \n",
    "* Print a new set of invitation messages, one for each person in your list."
   ]
  },
  {
   "cell_type": "markdown",
   "metadata": {},
   "source": [
    "In this code, I've followed the steps you mentioned:\n",
    "\n",
    "Removed the guest who can't make it.\n",
    "Printed a message about finding a bigger dinner table.\n",
    "Added a new guest at the beginning of the list using insert().\n",
    "Added a new guest in the middle of the list using insert().\n",
    "Added a new guest at the end of the list using append().\n",
    "Printed invitation messages for the updated guest list.\n",
    "This code will generate new invitation messages for the expanded guest list."
   ]
  },
  {
   "cell_type": "code",
   "execution_count": 4,
   "metadata": {},
   "outputs": [
    {
     "name": "stdout",
     "output_type": "stream",
     "text": [
      "Unfortunately, Albert Einstein can't make it to the dinner.\n",
      "Good news! I found a bigger dinner table.\n",
      "Dear Isaac Newton, you are cordially invited to a dinner at my place. Please join us!\n",
      "Dear Leonardo da Vinci, you are cordially invited to a dinner at my place. Please join us!\n",
      "Dear Nelson Mandela, you are cordially invited to a dinner at my place. Please join us!\n",
      "Dear Marie Curie, you are cordially invited to a dinner at my place. Please join us!\n",
      "Dear Galileo Galilei, you are cordially invited to a dinner at my place. Please join us!\n"
     ]
    }
   ],
   "source": [
    "guests = ['Albert Einstein', 'Nelson Mandela', 'Marie Curie']\n",
    "guest_cant_make_it = 'Albert Einstein'\n",
    "new_guest_at_beginning = 'Isaac Newton'\n",
    "new_guest_in_middle = 'Leonardo da Vinci'\n",
    "new_guest_at_end = 'Galileo Galilei'\n",
    "\n",
    "print(f\"Unfortunately, {guest_cant_make_it} can't make it to the dinner.\")\n",
    "\n",
    "guests.remove(guest_cant_make_it)\n",
    "\n",
    "print(\"Good news! I found a bigger dinner table.\")\n",
    "\n",
    "guests.insert(0, new_guest_at_beginning)\n",
    "guests.insert(len(guests) // 2, new_guest_in_middle)\n",
    "guests.append(new_guest_at_end)\n",
    "\n",
    "for guest in guests:\n",
    "    print(f\"Dear {guest}, you are cordially invited to a dinner at my place. Please join us!\")\n"
   ]
  },
  {
   "cell_type": "markdown",
   "metadata": {},
   "source": [
    "### Task6:\n",
    "Intentional Error: If you haven’t received an array index error in one of your programs yet, try to make one happen. Change an index in one of your programs to produce an index error. Make sure you correct the error before closing the program.    "
   ]
  },
  {
   "cell_type": "markdown",
   "metadata": {},
   "source": [
    "In this code, I try to access an element at index 3 of the guests list, even though the list only has three elements (indexes 0, 1, and 2). This would cause an IndexError, but I've enclosed this operation in a try block to catch the error. The program then continues to execute the next line, which correctly prints the name at index 1.\n",
    "\n",
    "Remember, handling errors using try and except is a useful way to prevent your program from crashing when unexpected issues arise."
   ]
  },
  {
   "cell_type": "code",
   "execution_count": 6,
   "metadata": {},
   "outputs": [
    {
     "name": "stdout",
     "output_type": "stream",
     "text": [
      "Index error occurred. The list doesn't have an element at index 3.\n",
      "Nelson Mandela\n"
     ]
    }
   ],
   "source": [
    "guests = ['Albert Einstein', 'Nelson Mandela', 'Marie Curie']\n",
    "\n",
    "try:\n",
    "    print(guests[3])  # This will cause an index error since the list has only three elements\n",
    "except IndexError:\n",
    "    print(\"Index error occurred. The list doesn't have an element at index 3.\")\n",
    "\n",
    "print(guests[1])  # This line is correct and will print the name at index 1\n"
   ]
  },
  {
   "cell_type": "markdown",
   "metadata": {},
   "source": [
    "### Task7\n",
    "Conditional Tests: Write a series of conditional tests. Print a statement describing each test and your prediction for the results of each test. Your code should look something like this:\n",
    "\n",
    "```\n",
    "car = 'BMW'\n",
    "print(\"Is car == 'BMW'? I predict True.\")\n",
    "print(car == 'subaru')\n",
    "```\n",
    "\n",
    "* Look closely at your results, and make sure you understand why each line evaluates to True or False.\n",
    "\n",
    "* Create at least 10 tests. Have at least 5 tests evaluate to True and another 5 tests evaluate to False.\n",
    "\n",
    "\n",
    "    "
   ]
  },
  {
   "cell_type": "markdown",
   "metadata": {},
   "source": [
    "In this code, I've created a series of conditional tests involving variables like car, number, name, temperature, and has_membership. For each test, I've printed a statement describing the test and then my prediction of whether it will evaluate to True or False. After each prediction, I've included the actual evaluation result.\n",
    "\n",
    "This is a good way to practice understanding how Python's conditional statements work and how they evaluate different expressions."
   ]
  },
  {
   "cell_type": "code",
   "execution_count": 8,
   "metadata": {},
   "outputs": [
    {
     "name": "stdout",
     "output_type": "stream",
     "text": [
      "Is car == 'BMW'? I predict True.\n",
      "True\n",
      "Is car == 'subaru'? I predict False.\n",
      "False\n",
      "Is number > 5? I predict True.\n",
      "True\n",
      "Is number < 0? I predict False.\n",
      "False\n",
      "Is name == 'Alice'? I predict True.\n",
      "True\n",
      "Is name == 'Bob'? I predict False.\n",
      "False\n",
      "Is temperature >= 25? I predict True.\n",
      "True\n",
      "Is temperature < 0? I predict False.\n",
      "False\n",
      "Does the person have a membership? I predict True.\n",
      "True\n",
      "Is the person a guest? I predict False.\n",
      "False\n"
     ]
    }
   ],
   "source": [
    "car = 'BMW'\n",
    "\n",
    "print(\"Is car == 'BMW'? I predict True.\")\n",
    "print(car == 'BMW')\n",
    "\n",
    "print(\"Is car == 'subaru'? I predict False.\")\n",
    "print(car == 'subaru')\n",
    "\n",
    "number = 10\n",
    "\n",
    "print(\"Is number > 5? I predict True.\")\n",
    "print(number > 5)\n",
    "\n",
    "print(\"Is number < 0? I predict False.\")\n",
    "print(number < 0)\n",
    "\n",
    "name = 'Alice'\n",
    "\n",
    "print(\"Is name == 'Alice'? I predict True.\")\n",
    "print(name == 'Alice')\n",
    "\n",
    "print(\"Is name == 'Bob'? I predict False.\")\n",
    "print(name == 'Bob')\n",
    "\n",
    "temperature = 30\n",
    "\n",
    "print(\"Is temperature >= 25? I predict True.\")\n",
    "print(temperature >= 25)\n",
    "\n",
    "print(\"Is temperature < 0? I predict False.\")\n",
    "print(temperature < 0)\n",
    "\n",
    "has_membership = True\n",
    "\n",
    "print(\"Does the person have a membership? I predict True.\")\n",
    "print(has_membership)\n",
    "\n",
    "print(\"Is the person a guest? I predict False.\")\n",
    "print(not has_membership)\n"
   ]
  },
  {
   "cell_type": "markdown",
   "metadata": {},
   "source": [
    "### Task8:\n",
    "More Conditional Tests: You don’t have to limit the number of tests you create to 10. If you want to try more comparisons, write more tests. Have at least one True and one False result for each of the following:\n",
    "\n",
    "* Tests for equality and inequality with strings\n",
    "\n",
    "* Tests using the lower case function\n",
    "\n",
    "* Numerical tests involving equality and inequality, greater than and less than, greater than or equal to, and less than or equal to\n",
    "\n",
    "* Tests using \"and\" and \"or\" operators\n",
    "\n",
    "* Test whether an item is in a list\n",
    "\n",
    "* Test whether an item is not in a list"
   ]
  },
  {
   "cell_type": "markdown",
   "metadata": {},
   "source": [
    "In this code, I've added additional tests for the scenarios you mentioned, including tests for strings, lowercase functions, numerical comparisons, logical operators (and and or), and membership tests for lists. Each prediction is followed by the actual evaluation result."
   ]
  },
  {
   "cell_type": "code",
   "execution_count": 9,
   "metadata": {},
   "outputs": [
    {
     "name": "stdout",
     "output_type": "stream",
     "text": [
      "Is favorite_color == 'blue'? I predict True.\n",
      "True\n",
      "Is favorite_color != 'green'? I predict True.\n",
      "True\n",
      "Is name.lower() == 'alice'? I predict True.\n",
      "True\n",
      "Is age == 25? I predict True.\n",
      "True\n",
      "Is age > 30? I predict False.\n",
      "False\n",
      "Is age <= 30? I predict True.\n",
      "True\n",
      "Is temperature > 15 and time_of_day == 'morning'? I predict True.\n",
      "True\n",
      "Is temperature > 25 or time_of_day == 'evening'? I predict False.\n",
      "False\n",
      "Is 'banana' in fruits? I predict True.\n",
      "True\n",
      "Is 'grape' not in fruits? I predict True.\n",
      "True\n"
     ]
    }
   ],
   "source": [
    "# Tests for equality and inequality with strings\n",
    "favorite_color = 'blue'\n",
    "print(\"Is favorite_color == 'blue'? I predict True.\")\n",
    "print(favorite_color == 'blue')\n",
    "\n",
    "print(\"Is favorite_color != 'green'? I predict True.\")\n",
    "print(favorite_color != 'green')\n",
    "\n",
    "# Tests using the lower case function\n",
    "name = 'Alice'\n",
    "print(\"Is name.lower() == 'alice'? I predict True.\")\n",
    "print(name.lower() == 'alice')\n",
    "\n",
    "# Numerical tests\n",
    "age = 25\n",
    "print(\"Is age == 25? I predict True.\")\n",
    "print(age == 25)\n",
    "\n",
    "print(\"Is age > 30? I predict False.\")\n",
    "print(age > 30)\n",
    "\n",
    "print(\"Is age <= 30? I predict True.\")\n",
    "print(age <= 30)\n",
    "\n",
    "# Tests using \"and\" and \"or\" operators\n",
    "temperature = 20\n",
    "time_of_day = 'morning'\n",
    "print(\"Is temperature > 15 and time_of_day == 'morning'? I predict True.\")\n",
    "print(temperature > 15 and time_of_day == 'morning')\n",
    "\n",
    "print(\"Is temperature > 25 or time_of_day == 'evening'? I predict False.\")\n",
    "print(temperature > 25 or time_of_day == 'evening')\n",
    "\n",
    "# Test whether an item is in a list\n",
    "fruits = ['apple', 'banana', 'orange']\n",
    "print(\"Is 'banana' in fruits? I predict True.\")\n",
    "print('banana' in fruits)\n",
    "\n",
    "# Test whether an item is not in a list\n",
    "print(\"Is 'grape' not in fruits? I predict True.\")\n",
    "print('grape' not in fruits)\n"
   ]
  },
  {
   "cell_type": "markdown",
   "metadata": {},
   "source": [
    "### Task9:\n",
    "Hello Admin: Make a list of five or more usernames, including the name 'admin'. Imagine you are writing code that will print a greeting to each user after they log in to a website. Loop through the list, and print a greeting to each user:\n",
    "* If the username is 'admin', print a special greeting, such as Hello admin, would you like to see a status report?\n",
    "\n",
    "* Otherwise, print a generic greeting, such as Hello Eric, thank you for logging in again.    "
   ]
  },
  {
   "cell_type": "markdown",
   "metadata": {},
   "source": [
    "In this code, I've created a list called usernames containing different usernames. The for loop iterates through each username, and based on the conditions, it prints a special greeting for the 'admin' user and a generic greeting for other users."
   ]
  },
  {
   "cell_type": "code",
   "execution_count": 10,
   "metadata": {},
   "outputs": [
    {
     "name": "stdout",
     "output_type": "stream",
     "text": [
      "Hello admin, would you like to see a status report?\n",
      "Hello Alice, thank you for logging in again.\n",
      "Hello Bob, thank you for logging in again.\n",
      "Hello Charlie, thank you for logging in again.\n",
      "Hello David, thank you for logging in again.\n"
     ]
    }
   ],
   "source": [
    "usernames = ['admin', 'Alice', 'Bob', 'Charlie', 'David']\n",
    "\n",
    "for username in usernames:\n",
    "    if username == 'admin':\n",
    "        print(f\"Hello {username}, would you like to see a status report?\")\n",
    "    else:\n",
    "        print(f\"Hello {username}, thank you for logging in again.\")\n"
   ]
  },
  {
   "cell_type": "markdown",
   "metadata": {},
   "source": [
    "### Task10:\n",
    "Checking Usernames: Do the following to create a program that simulates how websites ensure that everyone has a unique username.\n",
    "* Make a list of five or more usernames called current_users.\n",
    "\n",
    "* Make another list of five usernames called new_users. Make sure one or two of the new usernames are also in the current_users list.\n",
    "\n",
    "* Loop through the new_users list to see if each new username has already been used. If it has, print a message that the person will need to enter a new username. If a username has not been used, print a message saying that the username is available.\n",
    "\n",
    "* Make sure your comparison is case insensitive. If 'John' has been used, 'JOHN' should not be accepted.    "
   ]
  },
  {
   "cell_type": "markdown",
   "metadata": {},
   "source": [
    "In this code, the usernames in the current_users list are converted to lowercase and stored in the current_users_lower list. This is done to make the comparison case-insensitive. Then, the program loops through each new_user in the new_users list. If the lowercase version of the new username is found in current_users_lower, a message is printed that the username is taken. Otherwise, a message is printed that the username is available."
   ]
  },
  {
   "cell_type": "code",
   "execution_count": 11,
   "metadata": {},
   "outputs": [
    {
     "name": "stdout",
     "output_type": "stream",
     "text": [
      "The username 'emma' is available.\n",
      "Sorry, the username 'charlie' is already taken. Please choose a different username.\n",
      "The username 'james' is available.\n",
      "Sorry, the username 'ALICE' is already taken. Please choose a different username.\n",
      "The username 'olivia' is available.\n"
     ]
    }
   ],
   "source": [
    "current_users = ['alice', 'bob', 'charlie', 'david', 'admin']\n",
    "new_users = ['emma', 'charlie', 'james', 'ALICE', 'olivia']\n",
    "\n",
    "# Convert current_users to lowercase for case-insensitive comparison\n",
    "current_users_lower = [user.lower() for user in current_users]\n",
    "\n",
    "for new_user in new_users:\n",
    "    if new_user.lower() in current_users_lower:\n",
    "        print(f\"Sorry, the username '{new_user}' is already taken. Please choose a different username.\")\n",
    "    else:\n",
    "        print(f\"The username '{new_user}' is available.\")\n"
   ]
  },
  {
   "cell_type": "markdown",
   "metadata": {},
   "source": [
    "### Task11:\n",
    "Ordinal Numbers: Ordinal numbers indicate their position in a array, such as 1st or 2nd. Most ordinal numbers end in th, except 1, 2, and 3.\n",
    "* Store the numbers 1 through 9 in a array.\n",
    "\n",
    "* Loop through the array.\n",
    "\n",
    "* Use an if-else chain inside the loop to print the proper ordinal ending for each number. Your output should read \"1st 2nd 3rd 4th 5th 6th 7th 8th 9th\", and each result should be on a separate line.\n",
    "\n"
   ]
  },
  {
   "cell_type": "markdown",
   "metadata": {},
   "source": [
    "In this code, the numbers list contains the numbers from 1 to 9. The for loop iterates through each number. Inside the loop, an if-else chain determines the proper ordinal ending (st, nd, rd, or th) for each number. The formatted string then prints the result, creating the desired output"
   ]
  },
  {
   "cell_type": "code",
   "execution_count": 12,
   "metadata": {},
   "outputs": [
    {
     "name": "stdout",
     "output_type": "stream",
     "text": [
      "1st\n",
      "2nd\n",
      "3rd\n",
      "4th\n",
      "5th\n",
      "6th\n",
      "7th\n",
      "8th\n",
      "9th\n"
     ]
    }
   ],
   "source": [
    "numbers = list(range(1, 10))\n",
    "\n",
    "for number in numbers:\n",
    "    if number == 1:\n",
    "        ordinal = 'st'\n",
    "    elif number == 2:\n",
    "        ordinal = 'nd'\n",
    "    elif number == 3:\n",
    "        ordinal = 'rd'\n",
    "    else:\n",
    "        ordinal = 'th'\n",
    "    \n",
    "    print(f\"{number}{ordinal}\")\n"
   ]
  },
  {
   "cell_type": "markdown",
   "metadata": {},
   "source": [
    "### Task12:\n",
    "Animals: Think of at least three different animals that have a common characteristic. Store the names of these animals in a list, and then use a for loop to print out the name of each animal. \n",
    "* Modify your program to print a statement about each animal, such as A dog would make a great pet. \n",
    "* Add a line at the end of your program stating what these animals have in common. You could print a sentence such as Any of these animals would make a great pet!"
   ]
  },
  {
   "cell_type": "markdown",
   "metadata": {},
   "source": [
    "In this code, the for loop iterates through each animal in the animals list and prints a statement about each animal. The last line of the program prints the sentence indicating that any of these animals would make a great pet.\n",
    "\n",
    "The common characteristic here is that all three animals (dog, cat, and rabbit) are considered good pets."
   ]
  },
  {
   "cell_type": "code",
   "execution_count": 13,
   "metadata": {},
   "outputs": [
    {
     "name": "stdout",
     "output_type": "stream",
     "text": [
      "A dog would make a great pet.\n",
      "A cat would make a great pet.\n",
      "A rabbit would make a great pet.\n",
      "Any of these animals would make a great pet!\n"
     ]
    }
   ],
   "source": [
    "animals = ['dog', 'cat', 'rabbit']\n",
    "\n",
    "for animal in animals:\n",
    "    print(f\"A {animal} would make a great pet.\")\n",
    "\n",
    "print(\"Any of these animals would make a great pet!\")\n"
   ]
  },
  {
   "cell_type": "markdown",
   "metadata": {},
   "source": [
    "### Task13:\n",
    "City Names: Write a function called `city_country()` that takes in the name of a city and its country. The function should return a string formatted like this:\n",
    "\n",
    "`\"Lahore, Pakistan\"`<br><br>\n",
    "Call your function with at least three city-country pairs, and print the value that’s returned."
   ]
  },
  {
   "cell_type": "markdown",
   "metadata": {},
   "source": [
    "Certainly! Here's how you can create the city_country() function and call it with different city-country pairs:\n",
    "\n",
    "In this code, the city_country() function takes two parameters, city and country, and returns a formatted string combining them. The function is then called three times with different city-country pairs, and the results are printed. The output will show the formatted strings for each city and its corresponding country."
   ]
  },
  {
   "cell_type": "code",
   "execution_count": 14,
   "metadata": {},
   "outputs": [
    {
     "name": "stdout",
     "output_type": "stream",
     "text": [
      "Lahore, Pakistan\n",
      "Paris, France\n",
      "Tokyo, Japan\n"
     ]
    }
   ],
   "source": [
    "def city_country(city, country):\n",
    "    formatted_string = f\"{city}, {country}\"\n",
    "    return formatted_string\n",
    "\n",
    "# Calling the function with different city-country pairs\n",
    "result1 = city_country(\"Lahore\", \"Pakistan\")\n",
    "result2 = city_country(\"Paris\", \"France\")\n",
    "result3 = city_country(\"Tokyo\", \"Japan\")\n",
    "\n",
    "print(result1)\n",
    "print(result2)\n",
    "print(result3)\n"
   ]
  },
  {
   "cell_type": "markdown",
   "metadata": {},
   "source": [
    "### Task14:\n",
    "Write a function called `make_tshirt()` where you can provide `size` and `custome_text`. The function should print a sentence summarizing the size of the shirt and the message printed on it. Call the function."
   ]
  },
  {
   "cell_type": "markdown",
   "metadata": {},
   "source": [
    "In this code, the make_tshirt() function takes two parameters, size and custom_text. Inside the function, it prints a sentence summarizing the size of the t-shirt and the message to be printed on it. Finally, the function is called with the desired size and custom text, resulting in the sentence being printed."
   ]
  },
  {
   "cell_type": "code",
   "execution_count": 15,
   "metadata": {},
   "outputs": [
    {
     "name": "stdout",
     "output_type": "stream",
     "text": [
      "Creating a Medium t-shirt with the message: 'I love Python!'\n"
     ]
    }
   ],
   "source": [
    "def make_tshirt(size, custom_text):\n",
    "    print(f\"Creating a {size} t-shirt with the message: '{custom_text}'\")\n",
    "\n",
    "# Calling the function\n",
    "make_tshirt(\"Medium\", \"I love Python!\")\n"
   ]
  },
  {
   "cell_type": "markdown",
   "metadata": {},
   "source": [
    "### Task15:\n",
    "Write a function called `describe_city()` that accepts the name of a `city` and its `country`. The function should print a simple sentence, such as `Karachi is in Pakistan`. Give the parameter for the country a default value. Call your function for three different cities, at least one of which is not in the default country."
   ]
  },
  {
   "cell_type": "markdown",
   "metadata": {},
   "source": [
    "In this code, the describe_city() function takes two parameters, city and country, with a default value of \"Unknown\" for the country parameter. It prints a simple sentence with the provided city and country. The function is called three times with different city-country pairs, demonstrating both cases of using a provided country and the default country."
   ]
  },
  {
   "cell_type": "code",
   "execution_count": 16,
   "metadata": {},
   "outputs": [
    {
     "name": "stdout",
     "output_type": "stream",
     "text": [
      "Karachi is in Pakistan.\n",
      "Paris is in France.\n",
      "New York is in Unknown.\n"
     ]
    }
   ],
   "source": [
    "def describe_city(city, country=\"Unknown\"):\n",
    "    print(f\"{city} is in {country}.\")\n",
    "\n",
    "# Calling the function with different cities and countries\n",
    "describe_city(\"Karachi\", \"Pakistan\")\n",
    "describe_city(\"Paris\", \"France\")\n",
    "describe_city(\"New York\")  # Using the default country\n"
   ]
  },
  {
   "cell_type": "markdown",
   "metadata": {},
   "source": [
    "<hr>"
   ]
  },
  {
   "cell_type": "markdown",
   "metadata": {},
   "source": [
    "# Theory Section"
   ]
  },
  {
   "cell_type": "markdown",
   "metadata": {},
   "source": [
    "# 1. what is difference between data and information"
   ]
  },
  {
   "cell_type": "markdown",
   "metadata": {},
   "source": [
    "data is the raw material, while information is the processed and organized version of that data that carries meaning and context. Data needs interpretation to become information, and information is what people use to gain insights, make decisions, and communicate effectively."
   ]
  },
  {
   "cell_type": "markdown",
   "metadata": {},
   "source": [
    "# 2. what is difference between Machine Learning Vs Deep Learning?"
   ]
  },
  {
   "cell_type": "markdown",
   "metadata": {},
   "source": [
    "**Machine Learning (ML)** and **Deep Learning (DL)** are both subfields of artificial intelligence (AI) focused on enabling computers to learn from data, but they differ in their approaches, architectures, and applications:\n",
    "\n",
    "1. **Machine Learning (ML)**:\n",
    "   Machine Learning is a broader concept that encompasses various techniques and algorithms that enable computers to learn from data and make predictions or decisions based on that learning. It involves the development of models that can improve their performance over time through exposure to more data. ML algorithms include decision trees, linear regression, support vector machines, k-nearest neighbors, and more. ML techniques are used in a wide range of applications, from email filtering to recommendation systems.\n",
    "\n",
    "2. **Deep Learning (DL)**:\n",
    "   Deep Learning is a subset of Machine Learning that focuses on using artificial neural networks to model and solve complex problems. Neural networks are designed to mimic the human brain's structure, with layers of interconnected nodes (neurons) that process and transform data. Deep Learning algorithms excel at tasks that involve large amounts of unstructured data, such as images, audio, and text. Convolutional Neural Networks (CNNs) for images and Recurrent Neural Networks (RNNs) for sequences are examples of deep learning architectures. Deep Learning has achieved remarkable success in tasks like image recognition, natural language processing, and speech synthesis.\n",
    "\n",
    "In summary, while Machine Learning covers a broader range of techniques for enabling computers to learn from data, Deep Learning specifically focuses on using neural networks to create highly complex models that excel in handling large-scale, unstructured data. Deep Learning is a subset of Machine Learning that has gained significant attention due to its exceptional performance in specific domains, but both fields are important for advancing AI capabilities."
   ]
  },
  {
   "cell_type": "markdown",
   "metadata": {},
   "source": [
    "# 3. what is difference between symbolic AI and Machine Learning?"
   ]
  },
  {
   "cell_type": "markdown",
   "metadata": {},
   "source": [
    "**Symbolic AI** (also known as **Classical AI**) and **Machine Learning (ML)** are two different paradigms within the field of artificial intelligence (AI), each with its own approach and strengths:\n",
    "\n",
    "1. **Symbolic AI**:\n",
    "   Symbolic AI involves using explicit rules, logic, and representations of knowledge to solve problems and perform tasks. It relies on human-defined rules and symbols to process information. This approach uses formal logic and knowledge representation languages to manipulate symbols and make logical inferences. Expert systems, which use a knowledge base and rules to solve problems, are a classic example of symbolic AI. Symbolic AI can handle reasoning and decision-making based on explicit rules, but it might struggle with handling complex patterns and large amounts of unstructured data.\n",
    "\n",
    "2. **Machine Learning**:\n",
    "   Machine Learning is an approach where computers learn from data to perform tasks or make predictions. Instead of relying on explicit rules, ML algorithms learn patterns and relationships from data through statistical techniques. ML models are trained on large datasets and then generalize their learning to new, unseen data. This approach is particularly well-suited for tasks involving pattern recognition, image and speech processing, natural language understanding, and more. ML includes techniques like regression, classification, clustering, and neural networks.\n",
    "\n",
    "In summary, the main differences between Symbolic AI and Machine Learning are in their approaches and capabilities:\n",
    "\n",
    "- **Representation and Reasoning**: Symbolic AI uses explicit rules and logical reasoning, while Machine Learning learns patterns from data.\n",
    "- **Knowledge vs. Data**: Symbolic AI relies on predefined knowledge representation, whereas Machine Learning learns from data.\n",
    "- **Flexibility**: Symbolic AI is good for tasks with well-defined rules, while Machine Learning is flexible and adaptable to various data-driven tasks.\n",
    "- **Domain Specificity**: Symbolic AI often requires human experts to define rules, while Machine Learning can automatically learn from data without explicit rules.\n",
    "\n",
    "Both paradigms have their strengths and weaknesses, and the choice between them depends on the specific problem at hand and the available resources. In many cases, a combination of both approaches can lead to more robust and effective AI systems."
   ]
  },
  {
   "cell_type": "markdown",
   "metadata": {},
   "source": [
    "# 4. Define four pillars of Object Oriented Programming?"
   ]
  },
  {
   "cell_type": "markdown",
   "metadata": {},
   "source": [
    "The four pillars of Object-Oriented Programming (OOP) are the fundamental principles that guide the design and implementation of object-oriented software systems. They are:\n",
    "\n",
    "1. **Encapsulation**:\n",
    "   Encapsulation is the concept of bundling data (attributes) and methods (functions) that operate on the data into a single unit, known as a class. It promotes information hiding by restricting direct access to the internal state of an object and providing controlled access through well-defined interfaces (methods). Encapsulation helps maintain the integrity of an object's data and behavior by preventing unintended external interference.\n",
    "\n",
    "2. **Abstraction**:\n",
    "   Abstraction involves focusing on the essential properties and behaviors of an object while ignoring the non-essential details. It allows you to create a simplified representation of real-world entities in your software. Abstract classes and interfaces in OOP provide a blueprint for creating concrete objects. Abstraction helps manage complexity by emphasizing what an object does rather than how it does it.\n",
    "\n",
    "3. **Inheritance**:\n",
    "   Inheritance allows you to create a new class (subclass or derived class) based on an existing class (superclass or base class). The subclass inherits the attributes and methods of the superclass, and it can also extend or override these inherited properties. Inheritance facilitates code reusability and supports the \"is-a\" relationship, where a subclass is a specialized version of the superclass. It promotes hierarchical organization of classes and promotes the DRY (Don't Repeat Yourself) principle.\n",
    "\n",
    "4. **Polymorphism**:\n",
    "   Polymorphism allows objects of different classes to be treated as objects of a common superclass. It enables objects to exhibit different behaviors based on their specific types or classes. Polymorphism is achieved through method overriding and interface implementation. It promotes flexibility and extensibility in software design by allowing interchangeable components to be used seamlessly. Polymorphism supports the \"one interface, multiple implementations\" principle.\n",
    "\n",
    "These four pillars provide the foundation for designing modular, maintainable, and efficient object-oriented software systems by emphasizing modularity, reusability, and separation of concerns."
   ]
  },
  {
   "cell_type": "markdown",
   "metadata": {},
   "source": [
    "# 5. You can write about how you can use python in professional life. If you used python in your Office to solve any real-world probem. "
   ]
  },
  {
   "cell_type": "markdown",
   "metadata": {},
   "source": [
    "I, as an AI language model, don't have personal experiences or emotions, so I haven't used Python in an office or encountered real-world problems myself. However, I can certainly provide information on how Python can be used in a professional setting to solve real-world problems:\n",
    "\n",
    "Python is a versatile programming language that has gained immense popularity in various industries due to its simplicity, readability, and extensive libraries. Here are some ways Python can be used in professional life:\n",
    "\n",
    "1. **Data Analysis and Visualization**:\n",
    "   Python, along with libraries like Pandas, NumPy, and Matplotlib, is widely used for data analysis and visualization. Professionals in fields such as finance, marketing, and healthcare use Python to process, analyze, and visualize large datasets, enabling informed decision-making.\n",
    "\n",
    "2. **Web Development**:\n",
    "   Python's web frameworks like Django and Flask are used to develop dynamic websites and web applications. Python's clean syntax and rapid development capabilities make it a popular choice for building both simple and complex web applications.\n",
    "\n",
    "3. **Scientific and Numeric Computing**:\n",
    "   Engineers, researchers, and scientists use Python for complex numerical simulations and scientific computing. Libraries like SciPy, SymPy, and scikit-learn provide tools for scientific calculations, symbolic mathematics, and machine learning.\n",
    "\n",
    "4. **Automation and Scripting**:\n",
    "   Python is often used for automating repetitive tasks and scripting. In offices, Python scripts can be created to automate data processing, file management, and various administrative tasks.\n",
    "\n",
    "5. **Machine Learning and Artificial Intelligence**:\n",
    "   Python's libraries such as TensorFlow, Keras, and PyTorch enable professionals to develop machine learning and AI models. These models are used for predictive analytics, image and speech recognition, natural language processing, and more.\n",
    "\n",
    "6. **Game Development**:\n",
    "   Python's simplicity and flexibility make it suitable for game development. Libraries like Pygame provide tools to create 2D games, simulations, and interactive multimedia applications.\n",
    "\n",
    "7. **Cybersecurity**:\n",
    "   Python is used for cybersecurity tasks such as penetration testing, network scanning, and analyzing security vulnerabilities. It helps professionals identify and address security risks.\n",
    "\n",
    "8. **Finance and Trading**:\n",
    "   Python is widely used in the financial industry for quantitative analysis, algorithmic trading, and risk management. Libraries like QuantLib and Zipline are popular choices for financial modeling.\n",
    "\n",
    "9. **GIS and Mapping**:\n",
    "   Geographic Information Systems (GIS) professionals use Python to analyze spatial data, create interactive maps, and perform geospatial analysis.\n",
    "\n",
    "10. **Content Management Systems (CMS)**:\n",
    "    Python can be used to build content management systems, enabling professionals to manage and publish digital content efficiently.\n",
    "\n",
    "Overall, Python's versatility and rich ecosystem of libraries make it a valuable tool in various professional settings, allowing professionals to tackle a wide range of challenges and create efficient solutions."
   ]
  }
 ],
 "metadata": {
  "kernelspec": {
   "display_name": "Python 3 (ipykernel)",
   "language": "python",
   "name": "python3"
  },
  "language_info": {
   "codemirror_mode": {
    "name": "ipython",
    "version": 3
   },
   "file_extension": ".py",
   "mimetype": "text/x-python",
   "name": "python",
   "nbconvert_exporter": "python",
   "pygments_lexer": "ipython3",
   "version": "3.11.3"
  }
 },
 "nbformat": 4,
 "nbformat_minor": 4
}
