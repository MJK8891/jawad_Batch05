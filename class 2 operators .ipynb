{
 "cells": [
  {
   "cell_type": "raw",
   "id": "8bfe6569",
   "metadata": {},
   "source": [
    "variable_name = value"
   ]
  },
  {
   "cell_type": "markdown",
   "id": "03e4777c",
   "metadata": {},
   "source": [
    "<img src=\"test1.png\">"
   ]
  },
  {
   "cell_type": "code",
   "execution_count": 2,
   "id": "5d0a1731",
   "metadata": {},
   "outputs": [
    {
     "name": "stdout",
     "output_type": "stream",
     "text": [
      "3\n"
     ]
    }
   ],
   "source": [
    "a=1  \n",
    "b=2\n",
    "print(a+b)\n",
    "\n"
   ]
  },
  {
   "cell_type": "code",
   "execution_count": 9,
   "id": "dbe85b70",
   "metadata": {},
   "outputs": [
    {
     "name": "stdout",
     "output_type": "stream",
     "text": [
      "muhammad jawad khan\n",
      "<class 'str'>\n",
      "2011155355232\n"
     ]
    }
   ],
   "source": [
    "name = \"muhammad jawad khan\"\n",
    "print (name)\n",
    "print(type(name))\n",
    "print(id(name))"
   ]
  },
  {
   "cell_type": "code",
   "execution_count": 11,
   "id": "f14a52af",
   "metadata": {},
   "outputs": [
    {
     "name": "stdout",
     "output_type": "stream",
     "text": [
      "20\n",
      "<class 'int'>\n",
      "140708595471752\n"
     ]
    }
   ],
   "source": [
    "a = 20\n",
    "print (a) \n",
    "print (type (a))\n",
    "print (id (a))\n"
   ]
  },
  {
   "cell_type": "code",
   "execution_count": 13,
   "id": "3ff98dd4",
   "metadata": {},
   "outputs": [
    {
     "name": "stdout",
     "output_type": "stream",
     "text": [
      "{1, 2, 3, 4, 5}\n",
      "<class 'set'>\n",
      "2011155257088\n"
     ]
    }
   ],
   "source": [
    "a ={1,2,3,4,5}  #UNIQUE COLLECTION \n",
    "print (a) \n",
    "print (type (a))\n",
    "print (id (a))\n"
   ]
  },
  {
   "cell_type": "code",
   "execution_count": 23,
   "id": "00ebb448",
   "metadata": {},
   "outputs": [
    {
     "name": "stdout",
     "output_type": "stream",
     "text": [
      "7 <class 'int'> 140708595471336\n",
      "7 <class 'str'> 140708595514832\n",
      "7.5 <class 'float'> 2011154822320\n"
     ]
    }
   ],
   "source": [
    " a = 7 #dynamic data type python\n",
    "print(a, type(a), id(a))\n",
    "\n",
    " a = '7' #string/overwrite\n",
    "print(a, type(a), id(a))\n",
    "\n",
    " a = 7.5 #float\n",
    "print(a, type(a), id(a))\n",
    "    "
   ]
  },
  {
   "cell_type": "code",
   "execution_count": 27,
   "id": "e08e3037",
   "metadata": {},
   "outputs": [
    {
     "name": "stdout",
     "output_type": "stream",
     "text": [
      "xyz\n"
     ]
    }
   ],
   "source": [
    "jawad = 1\n",
    "jawad = 2\n",
    "jawad = 'xyz'\n",
    "print (jawad)"
   ]
  },
  {
   "cell_type": "code",
   "execution_count": 30,
   "id": "9320dd5b",
   "metadata": {},
   "outputs": [
    {
     "name": "stdout",
     "output_type": "stream",
     "text": [
      "12\n"
     ]
    }
   ],
   "source": [
    "a='1'\n",
    "b='2'\n",
    "print (a+b)"
   ]
  },
  {
   "cell_type": "code",
   "execution_count": 31,
   "id": "09fa6a1a",
   "metadata": {},
   "outputs": [
    {
     "name": "stdout",
     "output_type": "stream",
     "text": [
      "3\n"
     ]
    }
   ],
   "source": [
    "a=1\n",
    "b=2\n",
    "print (a+b)"
   ]
  },
  {
   "cell_type": "code",
   "execution_count": 32,
   "id": "9bdbcc33",
   "metadata": {},
   "outputs": [
    {
     "name": "stdout",
     "output_type": "stream",
     "text": [
      "1 <class 'int'> 140708595471144\n",
      "2 <class 'int'> 140708595471176\n",
      "xyz <class 'str'> 2011161014448\n",
      "xyz\n"
     ]
    }
   ],
   "source": [
    "jawad = 1\n",
    "print(jawad, type(jawad), id(jawad))\n",
    "jawad = 2\n",
    "print(jawad, type(jawad), id(jawad))\n",
    "jawad = 'xyz'\n",
    "print(jawad, type(jawad), id(jawad))\n",
    "print (jawad)"
   ]
  },
  {
   "cell_type": "code",
   "execution_count": 33,
   "id": "cf853a34",
   "metadata": {},
   "outputs": [
    {
     "name": "stdout",
     "output_type": "stream",
     "text": [
      "140708595471304\n",
      "140708595471304\n",
      "140708595471304\n"
     ]
    }
   ],
   "source": [
    "x=6 #shallow copy it has same memory adress\n",
    "y=6\n",
    "z=6\n",
    "print(id (x))\n",
    "print(id (y))\n",
    "print(id (z))"
   ]
  },
  {
   "cell_type": "code",
   "execution_count": 34,
   "id": "1be1d88e",
   "metadata": {},
   "outputs": [
    {
     "name": "stdout",
     "output_type": "stream",
     "text": [
      "140708595471304\n",
      "140708595514776\n"
     ]
    }
   ],
   "source": [
    "x=6 #deep it has different memory adress\n",
    "y='6'\n",
    "\n",
    "print(id (x))\n",
    "print(id (y))\n"
   ]
  },
  {
   "cell_type": "markdown",
   "id": "ab637ed6",
   "metadata": {},
   "source": [
    "#operators\n",
    "# https://www.w3schools.com/python/python_operators.asp\n",
    "Python divides the operators in the following groups:\n",
    "\n",
    "*Arithmetic operators\n",
    "*Assignment operators\n",
    "*Comparison operators\n",
    "*Logical operators\n",
    "*Identity operators\n",
    "*Membership operators\n",
    "*Bitwise operators\n",
    "\n",
    "<img_src"
   ]
  },
  {
   "cell_type": "markdown",
   "id": "532aa4c7",
   "metadata": {},
   "source": [
    "# Arithmetic operators\n",
    "import pandas as pd\n",
    "df = pd.read_html(\"https://www.w3schools.com/python/python_operators.asp\")\n",
    "pd[0]\n"
   ]
  },
  {
   "cell_type": "code",
   "execution_count": 43,
   "id": "ab132a85",
   "metadata": {},
   "outputs": [
    {
     "name": "stdout",
     "output_type": "stream",
     "text": [
      "9 addition\n",
      "14 multiplication\n",
      "5 subtraction\n",
      "2 modulus\n",
      "4 power\n",
      "8 power\n"
     ]
    },
    {
     "data": {
      "text/plain": [
       "3.5"
      ]
     },
     "execution_count": 43,
     "metadata": {},
     "output_type": "execute_result"
    }
   ],
   "source": [
    "print (2+7, \"addition\")\n",
    "print (2*7, \"multiplication\")\n",
    "print (7-2, \"subtraction\")\n",
    "print (11%3,\"modulus\")\n",
    "print (2**2, \"power\")\n",
    "print (2**3, \"power\")\n",
    "7/2\n",
    "\n"
   ]
  },
  {
   "cell_type": "code",
   "execution_count": 42,
   "id": "2bcf4626",
   "metadata": {},
   "outputs": [
    {
     "data": {
      "text/plain": [
       "3"
      ]
     },
     "execution_count": 42,
     "metadata": {},
     "output_type": "execute_result"
    }
   ],
   "source": [
    "7//2"
   ]
  },
  {
   "cell_type": "code",
   "execution_count": 44,
   "id": "4922ee9d",
   "metadata": {},
   "outputs": [
    {
     "name": "stdout",
     "output_type": "stream",
     "text": [
      "7\n"
     ]
    }
   ],
   "source": [
    "a= 7\n",
    "print (a)\n"
   ]
  },
  {
   "cell_type": "code",
   "execution_count": 45,
   "id": "21e0b41c",
   "metadata": {},
   "outputs": [],
   "source": [
    "a += 2\n"
   ]
  },
  {
   "cell_type": "code",
   "execution_count": null,
   "id": "71bc94e3",
   "metadata": {},
   "outputs": [],
   "source": [
    "#comparision valiable "
   ]
  },
  {
   "cell_type": "code",
   "execution_count": 46,
   "id": "28c497b2",
   "metadata": {},
   "outputs": [
    {
     "data": {
      "text/plain": [
       "True"
      ]
     },
     "execution_count": 46,
     "metadata": {},
     "output_type": "execute_result"
    }
   ],
   "source": [
    "a=7\n",
    "b=7\n",
    "a==b"
   ]
  },
  {
   "cell_type": "code",
   "execution_count": 47,
   "id": "b5b2b75e",
   "metadata": {},
   "outputs": [
    {
     "data": {
      "text/plain": [
       "False"
      ]
     },
     "execution_count": 47,
     "metadata": {},
     "output_type": "execute_result"
    }
   ],
   "source": [
    "a=7\n",
    "b=97\n",
    "a==b"
   ]
  },
  {
   "cell_type": "code",
   "execution_count": 48,
   "id": "2e4aa3d3",
   "metadata": {},
   "outputs": [
    {
     "data": {
      "text/plain": [
       "False"
      ]
     },
     "execution_count": 48,
     "metadata": {},
     "output_type": "execute_result"
    }
   ],
   "source": [
    "a=7\n",
    "b=9\n",
    "a>b"
   ]
  },
  {
   "cell_type": "code",
   "execution_count": 49,
   "id": "333efa0b",
   "metadata": {},
   "outputs": [
    {
     "data": {
      "text/plain": [
       "True"
      ]
     },
     "execution_count": 49,
     "metadata": {},
     "output_type": "execute_result"
    }
   ],
   "source": [
    "a=7\n",
    "b=9\n",
    "a<b"
   ]
  },
  {
   "cell_type": "code",
   "execution_count": 50,
   "id": "1e838284",
   "metadata": {},
   "outputs": [
    {
     "data": {
      "text/plain": [
       "True"
      ]
     },
     "execution_count": 50,
     "metadata": {},
     "output_type": "execute_result"
    }
   ],
   "source": [
    "a=10\n",
    "b=9\n",
    "a>=b # greater then equal"
   ]
  },
  {
   "cell_type": "code",
   "execution_count": 51,
   "id": "05d01940",
   "metadata": {},
   "outputs": [
    {
     "data": {
      "text/plain": [
       "True"
      ]
     },
     "execution_count": 51,
     "metadata": {},
     "output_type": "execute_result"
    }
   ],
   "source": [
    "a=10\n",
    "b=9\n",
    "a!=b   #not equal to"
   ]
  },
  {
   "cell_type": "code",
   "execution_count": null,
   "id": "60565135",
   "metadata": {},
   "outputs": [],
   "source": [
    "# logcal operator\n"
   ]
  },
  {
   "cell_type": "code",
   "execution_count": 53,
   "id": "0fdfb994",
   "metadata": {},
   "outputs": [
    {
     "name": "stdout",
     "output_type": "stream",
     "text": [
      "True\n",
      "False\n",
      "False\n"
     ]
    }
   ],
   "source": [
    "#      1        2        3        4\n",
    "print (True and True and True and True)\n",
    "print (True and False and True and True)\n",
    "print (True and False and True and False)"
   ]
  },
  {
   "cell_type": "code",
   "execution_count": 55,
   "id": "aa1d658d",
   "metadata": {},
   "outputs": [
    {
     "name": "stdout",
     "output_type": "stream",
     "text": [
      "True\n",
      "True\n",
      "True\n",
      "True\n"
     ]
    }
   ],
   "source": [
    "#      1        2        3        4\n",
    "print (True or True or True or True)\n",
    "print (True or False or True or True)\n",
    "print (True or False or True or False)\n",
    "print (False or False or True or False)"
   ]
  },
  {
   "cell_type": "code",
   "execution_count": null,
   "id": "587c8143",
   "metadata": {},
   "outputs": [],
   "source": []
  }
 ],
 "metadata": {
  "kernelspec": {
   "display_name": "Python 3 (ipykernel)",
   "language": "python",
   "name": "python3"
  },
  "language_info": {
   "codemirror_mode": {
    "name": "ipython",
    "version": 3
   },
   "file_extension": ".py",
   "mimetype": "text/x-python",
   "name": "python",
   "nbconvert_exporter": "python",
   "pygments_lexer": "ipython3",
   "version": "3.11.3"
  }
 },
 "nbformat": 4,
 "nbformat_minor": 5
}
