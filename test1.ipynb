print ("Institute Name: NED Academy")
print ("Course Name: Data Science & AI Batch 05")
print ("Student Name: Muhammad jawad khan")
print ("CNIC No.: 00000-0000000-0")
